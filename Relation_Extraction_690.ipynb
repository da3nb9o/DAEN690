{
  "nbformat": 4,
  "nbformat_minor": 0,
  "metadata": {
    "colab": {
      "name": "Relation Extraction 690.ipynb",
      "provenance": [],
      "collapsed_sections": [],
      "machine_shape": "hm",
      "mount_file_id": "1-1EGVkhDiPopkLw5Qv_EiaRov5-wj-xm",
      "authorship_tag": "ABX9TyOpPT1cVstMBs9QymiiTRYW"
    },
    "kernelspec": {
      "name": "python3",
      "display_name": "Python 3"
    },
    "language_info": {
      "name": "python"
    },
    "accelerator": "GPU"
  },
  "cells": [
    {
      "cell_type": "code",
      "metadata": {
        "colab": {
          "base_uri": "https://localhost:8080/"
        },
        "id": "c5v6adi8ACH2",
        "outputId": "3ce449a8-116c-47af-ca1f-268f01eae339"
      },
      "source": [
        "!nvidia-smi"
      ],
      "execution_count": 1,
      "outputs": [
        {
          "output_type": "stream",
          "name": "stdout",
          "text": [
            "Wed Nov 10 19:01:12 2021       \n",
            "+-----------------------------------------------------------------------------+\n",
            "| NVIDIA-SMI 495.44       Driver Version: 460.32.03    CUDA Version: 11.2     |\n",
            "|-------------------------------+----------------------+----------------------+\n",
            "| GPU  Name        Persistence-M| Bus-Id        Disp.A | Volatile Uncorr. ECC |\n",
            "| Fan  Temp  Perf  Pwr:Usage/Cap|         Memory-Usage | GPU-Util  Compute M. |\n",
            "|                               |                      |               MIG M. |\n",
            "|===============================+======================+======================|\n",
            "|   0  Tesla P100-PCIE...  Off  | 00000000:00:04.0 Off |                    0 |\n",
            "| N/A   39C    P0    27W / 250W |      0MiB / 16280MiB |      0%      Default |\n",
            "|                               |                      |                  N/A |\n",
            "+-------------------------------+----------------------+----------------------+\n",
            "                                                                               \n",
            "+-----------------------------------------------------------------------------+\n",
            "| Processes:                                                                  |\n",
            "|  GPU   GI   CI        PID   Type   Process name                  GPU Memory |\n",
            "|        ID   ID                                                   Usage      |\n",
            "|=============================================================================|\n",
            "|  No running processes found                                                 |\n",
            "+-----------------------------------------------------------------------------+\n"
          ]
        }
      ]
    },
    {
      "cell_type": "code",
      "metadata": {
        "colab": {
          "base_uri": "https://localhost:8080/"
        },
        "id": "W9eGbkGN_xsX",
        "outputId": "715ecc37-22c0-4ec1-f759-0eff0728709b"
      },
      "source": [
        "# 13 sec\n",
        "!pip install -U spacy"
      ],
      "execution_count": 2,
      "outputs": [
        {
          "output_type": "stream",
          "name": "stdout",
          "text": [
            "Requirement already satisfied: spacy in /usr/local/lib/python3.7/dist-packages (2.2.4)\n",
            "Collecting spacy\n",
            "  Downloading spacy-3.2.0-cp37-cp37m-manylinux_2_17_x86_64.manylinux2014_x86_64.whl (6.0 MB)\n",
            "\u001b[K     |████████████████████████████████| 6.0 MB 9.8 MB/s \n",
            "\u001b[?25hCollecting thinc<8.1.0,>=8.0.12\n",
            "  Downloading thinc-8.0.13-cp37-cp37m-manylinux_2_17_x86_64.manylinux2014_x86_64.whl (628 kB)\n",
            "\u001b[K     |████████████████████████████████| 628 kB 31.1 MB/s \n",
            "\u001b[?25hRequirement already satisfied: murmurhash<1.1.0,>=0.28.0 in /usr/local/lib/python3.7/dist-packages (from spacy) (1.0.6)\n",
            "Requirement already satisfied: typing-extensions<4.0.0.0,>=3.7.4 in /usr/local/lib/python3.7/dist-packages (from spacy) (3.10.0.2)\n",
            "Requirement already satisfied: wasabi<1.1.0,>=0.8.1 in /usr/local/lib/python3.7/dist-packages (from spacy) (0.8.2)\n",
            "Requirement already satisfied: blis<0.8.0,>=0.4.0 in /usr/local/lib/python3.7/dist-packages (from spacy) (0.4.1)\n",
            "Collecting spacy-legacy<3.1.0,>=3.0.8\n",
            "  Downloading spacy_legacy-3.0.8-py2.py3-none-any.whl (14 kB)\n",
            "Requirement already satisfied: jinja2 in /usr/local/lib/python3.7/dist-packages (from spacy) (2.11.3)\n",
            "Requirement already satisfied: preshed<3.1.0,>=3.0.2 in /usr/local/lib/python3.7/dist-packages (from spacy) (3.0.6)\n",
            "Collecting typer<0.5.0,>=0.3.0\n",
            "  Downloading typer-0.4.0-py3-none-any.whl (27 kB)\n",
            "Collecting pathy>=0.3.5\n",
            "  Downloading pathy-0.6.1-py3-none-any.whl (42 kB)\n",
            "\u001b[K     |████████████████████████████████| 42 kB 1.3 MB/s \n",
            "\u001b[?25hRequirement already satisfied: cymem<2.1.0,>=2.0.2 in /usr/local/lib/python3.7/dist-packages (from spacy) (2.0.6)\n",
            "Requirement already satisfied: packaging>=20.0 in /usr/local/lib/python3.7/dist-packages (from spacy) (21.2)\n",
            "Requirement already satisfied: requests<3.0.0,>=2.13.0 in /usr/local/lib/python3.7/dist-packages (from spacy) (2.23.0)\n",
            "Collecting pydantic!=1.8,!=1.8.1,<1.9.0,>=1.7.4\n",
            "  Downloading pydantic-1.8.2-cp37-cp37m-manylinux2014_x86_64.whl (10.1 MB)\n",
            "\u001b[K     |████████████████████████████████| 10.1 MB 17.7 MB/s \n",
            "\u001b[?25hRequirement already satisfied: setuptools in /usr/local/lib/python3.7/dist-packages (from spacy) (57.4.0)\n",
            "Collecting langcodes<4.0.0,>=3.2.0\n",
            "  Downloading langcodes-3.2.1.tar.gz (173 kB)\n",
            "\u001b[K     |████████████████████████████████| 173 kB 51.8 MB/s \n",
            "\u001b[?25hCollecting catalogue<2.1.0,>=2.0.6\n",
            "  Downloading catalogue-2.0.6-py3-none-any.whl (17 kB)\n",
            "Requirement already satisfied: numpy>=1.15.0 in /usr/local/lib/python3.7/dist-packages (from spacy) (1.19.5)\n",
            "Requirement already satisfied: tqdm<5.0.0,>=4.38.0 in /usr/local/lib/python3.7/dist-packages (from spacy) (4.62.3)\n",
            "Collecting spacy-loggers<2.0.0,>=1.0.0\n",
            "  Downloading spacy_loggers-1.0.1-py3-none-any.whl (7.0 kB)\n",
            "Collecting srsly<3.0.0,>=2.4.1\n",
            "  Downloading srsly-2.4.2-cp37-cp37m-manylinux_2_17_x86_64.manylinux2014_x86_64.whl (451 kB)\n",
            "\u001b[K     |████████████████████████████████| 451 kB 37.7 MB/s \n",
            "\u001b[?25hRequirement already satisfied: zipp>=0.5 in /usr/local/lib/python3.7/dist-packages (from catalogue<2.1.0,>=2.0.6->spacy) (3.6.0)\n",
            "Requirement already satisfied: pyparsing<3,>=2.0.2 in /usr/local/lib/python3.7/dist-packages (from packaging>=20.0->spacy) (2.4.7)\n",
            "Requirement already satisfied: smart-open<6.0.0,>=5.0.0 in /usr/local/lib/python3.7/dist-packages (from pathy>=0.3.5->spacy) (5.2.1)\n",
            "Requirement already satisfied: idna<3,>=2.5 in /usr/local/lib/python3.7/dist-packages (from requests<3.0.0,>=2.13.0->spacy) (2.10)\n",
            "Requirement already satisfied: urllib3!=1.25.0,!=1.25.1,<1.26,>=1.21.1 in /usr/local/lib/python3.7/dist-packages (from requests<3.0.0,>=2.13.0->spacy) (1.24.3)\n",
            "Requirement already satisfied: chardet<4,>=3.0.2 in /usr/local/lib/python3.7/dist-packages (from requests<3.0.0,>=2.13.0->spacy) (3.0.4)\n",
            "Requirement already satisfied: certifi>=2017.4.17 in /usr/local/lib/python3.7/dist-packages (from requests<3.0.0,>=2.13.0->spacy) (2021.10.8)\n",
            "Requirement already satisfied: click<9.0.0,>=7.1.1 in /usr/local/lib/python3.7/dist-packages (from typer<0.5.0,>=0.3.0->spacy) (7.1.2)\n",
            "Requirement already satisfied: MarkupSafe>=0.23 in /usr/local/lib/python3.7/dist-packages (from jinja2->spacy) (2.0.1)\n",
            "Building wheels for collected packages: langcodes\n",
            "  Building wheel for langcodes (setup.py) ... \u001b[?25l\u001b[?25hdone\n",
            "  Created wheel for langcodes: filename=langcodes-3.2.1-py3-none-any.whl size=169396 sha256=d22726fd7d5fd99691c69f19cad4b252c90a672e82455860f61e0b150f3374e8\n",
            "  Stored in directory: /root/.cache/pip/wheels/12/9c/b3/d42c928e622075d3b6056733125190086e44c9230878e6eb2b\n",
            "Successfully built langcodes\n",
            "Installing collected packages: catalogue, typer, srsly, pydantic, thinc, spacy-loggers, spacy-legacy, pathy, langcodes, spacy\n",
            "  Attempting uninstall: catalogue\n",
            "    Found existing installation: catalogue 1.0.0\n",
            "    Uninstalling catalogue-1.0.0:\n",
            "      Successfully uninstalled catalogue-1.0.0\n",
            "  Attempting uninstall: srsly\n",
            "    Found existing installation: srsly 1.0.5\n",
            "    Uninstalling srsly-1.0.5:\n",
            "      Successfully uninstalled srsly-1.0.5\n",
            "  Attempting uninstall: thinc\n",
            "    Found existing installation: thinc 7.4.0\n",
            "    Uninstalling thinc-7.4.0:\n",
            "      Successfully uninstalled thinc-7.4.0\n",
            "  Attempting uninstall: spacy\n",
            "    Found existing installation: spacy 2.2.4\n",
            "    Uninstalling spacy-2.2.4:\n",
            "      Successfully uninstalled spacy-2.2.4\n",
            "Successfully installed catalogue-2.0.6 langcodes-3.2.1 pathy-0.6.1 pydantic-1.8.2 spacy-3.2.0 spacy-legacy-3.0.8 spacy-loggers-1.0.1 srsly-2.4.2 thinc-8.0.13 typer-0.4.0\n"
          ]
        }
      ]
    },
    {
      "cell_type": "code",
      "metadata": {
        "colab": {
          "base_uri": "https://localhost:8080/"
        },
        "id": "nkolM2G2Ajgv",
        "outputId": "425a8923-86d7-490e-ac4d-0dd937cdb41c"
      },
      "source": [
        "# 3 sec\n",
        "# Need to restart\n",
        "!pip install -U pip setuptools wheel\n",
        "# !python -m spacy project clone tutorials/rel_component\n",
        "# Do not need to download. Use /content/rel_component"
      ],
      "execution_count": 1,
      "outputs": [
        {
          "output_type": "stream",
          "name": "stdout",
          "text": [
            "Requirement already satisfied: pip in /usr/local/lib/python3.7/dist-packages (21.3.1)\n",
            "Requirement already satisfied: setuptools in /usr/local/lib/python3.7/dist-packages (58.5.3)\n",
            "Requirement already satisfied: wheel in /usr/local/lib/python3.7/dist-packages (0.37.0)\n",
            "\u001b[33mWARNING: Running pip as the 'root' user can result in broken permissions and conflicting behaviour with the system package manager. It is recommended to use a virtual environment instead: https://pip.pypa.io/warnings/venv\u001b[0m\n"
          ]
        }
      ]
    },
    {
      "cell_type": "markdown",
      "metadata": {
        "id": "dTyleDczBfx-"
      },
      "source": [
        "!python -m spacy project clone tutorials/rel_component"
      ]
    },
    {
      "cell_type": "code",
      "metadata": {
        "colab": {
          "base_uri": "https://localhost:8080/"
        },
        "id": "dDNZJeHmleEH",
        "outputId": "f03c3bc4-985c-429a-f5a2-96e6fa453fb4"
      },
      "source": [
        "# 1 minutes\n",
        "# !python -m spacy download en_core_web_lg\n",
        "!python -m spacy download en_core_web_lg"
      ],
      "execution_count": 2,
      "outputs": [
        {
          "output_type": "stream",
          "name": "stdout",
          "text": [
            "Collecting en-core-web-lg==3.2.0\n",
            "  Downloading https://github.com/explosion/spacy-models/releases/download/en_core_web_lg-3.2.0/en_core_web_lg-3.2.0-py3-none-any.whl (777.4 MB)\n",
            "     |████████████████████████████████| 777.4 MB 6.9 kB/s             \n",
            "\u001b[?25hRequirement already satisfied: spacy<3.3.0,>=3.2.0 in /usr/local/lib/python3.7/dist-packages (from en-core-web-lg==3.2.0) (3.2.0)\n",
            "Requirement already satisfied: srsly<3.0.0,>=2.4.1 in /usr/local/lib/python3.7/dist-packages (from spacy<3.3.0,>=3.2.0->en-core-web-lg==3.2.0) (2.4.2)\n",
            "Requirement already satisfied: packaging>=20.0 in /usr/local/lib/python3.7/dist-packages (from spacy<3.3.0,>=3.2.0->en-core-web-lg==3.2.0) (21.2)\n",
            "Requirement already satisfied: thinc<8.1.0,>=8.0.12 in /usr/local/lib/python3.7/dist-packages (from spacy<3.3.0,>=3.2.0->en-core-web-lg==3.2.0) (8.0.13)\n",
            "Requirement already satisfied: typer<0.5.0,>=0.3.0 in /usr/local/lib/python3.7/dist-packages (from spacy<3.3.0,>=3.2.0->en-core-web-lg==3.2.0) (0.4.0)\n",
            "Requirement already satisfied: typing-extensions<4.0.0.0,>=3.7.4 in /usr/local/lib/python3.7/dist-packages (from spacy<3.3.0,>=3.2.0->en-core-web-lg==3.2.0) (3.10.0.2)\n",
            "Requirement already satisfied: pydantic!=1.8,!=1.8.1,<1.9.0,>=1.7.4 in /usr/local/lib/python3.7/dist-packages (from spacy<3.3.0,>=3.2.0->en-core-web-lg==3.2.0) (1.8.2)\n",
            "Requirement already satisfied: numpy>=1.15.0 in /usr/local/lib/python3.7/dist-packages (from spacy<3.3.0,>=3.2.0->en-core-web-lg==3.2.0) (1.19.5)\n",
            "Requirement already satisfied: wasabi<1.1.0,>=0.8.1 in /usr/local/lib/python3.7/dist-packages (from spacy<3.3.0,>=3.2.0->en-core-web-lg==3.2.0) (0.8.2)\n",
            "Requirement already satisfied: spacy-loggers<2.0.0,>=1.0.0 in /usr/local/lib/python3.7/dist-packages (from spacy<3.3.0,>=3.2.0->en-core-web-lg==3.2.0) (1.0.1)\n",
            "Requirement already satisfied: setuptools in /usr/local/lib/python3.7/dist-packages (from spacy<3.3.0,>=3.2.0->en-core-web-lg==3.2.0) (58.5.3)\n",
            "Requirement already satisfied: catalogue<2.1.0,>=2.0.6 in /usr/local/lib/python3.7/dist-packages (from spacy<3.3.0,>=3.2.0->en-core-web-lg==3.2.0) (2.0.6)\n",
            "Requirement already satisfied: cymem<2.1.0,>=2.0.2 in /usr/local/lib/python3.7/dist-packages (from spacy<3.3.0,>=3.2.0->en-core-web-lg==3.2.0) (2.0.6)\n",
            "Requirement already satisfied: murmurhash<1.1.0,>=0.28.0 in /usr/local/lib/python3.7/dist-packages (from spacy<3.3.0,>=3.2.0->en-core-web-lg==3.2.0) (1.0.6)\n",
            "Requirement already satisfied: preshed<3.1.0,>=3.0.2 in /usr/local/lib/python3.7/dist-packages (from spacy<3.3.0,>=3.2.0->en-core-web-lg==3.2.0) (3.0.6)\n",
            "Requirement already satisfied: spacy-legacy<3.1.0,>=3.0.8 in /usr/local/lib/python3.7/dist-packages (from spacy<3.3.0,>=3.2.0->en-core-web-lg==3.2.0) (3.0.8)\n",
            "Requirement already satisfied: tqdm<5.0.0,>=4.38.0 in /usr/local/lib/python3.7/dist-packages (from spacy<3.3.0,>=3.2.0->en-core-web-lg==3.2.0) (4.62.3)\n",
            "Requirement already satisfied: blis<0.8.0,>=0.4.0 in /usr/local/lib/python3.7/dist-packages (from spacy<3.3.0,>=3.2.0->en-core-web-lg==3.2.0) (0.4.1)\n",
            "Requirement already satisfied: requests<3.0.0,>=2.13.0 in /usr/local/lib/python3.7/dist-packages (from spacy<3.3.0,>=3.2.0->en-core-web-lg==3.2.0) (2.23.0)\n",
            "Requirement already satisfied: langcodes<4.0.0,>=3.2.0 in /usr/local/lib/python3.7/dist-packages (from spacy<3.3.0,>=3.2.0->en-core-web-lg==3.2.0) (3.2.1)\n",
            "Requirement already satisfied: pathy>=0.3.5 in /usr/local/lib/python3.7/dist-packages (from spacy<3.3.0,>=3.2.0->en-core-web-lg==3.2.0) (0.6.1)\n",
            "Requirement already satisfied: jinja2 in /usr/local/lib/python3.7/dist-packages (from spacy<3.3.0,>=3.2.0->en-core-web-lg==3.2.0) (2.11.3)\n",
            "Requirement already satisfied: zipp>=0.5 in /usr/local/lib/python3.7/dist-packages (from catalogue<2.1.0,>=2.0.6->spacy<3.3.0,>=3.2.0->en-core-web-lg==3.2.0) (3.6.0)\n",
            "Requirement already satisfied: pyparsing<3,>=2.0.2 in /usr/local/lib/python3.7/dist-packages (from packaging>=20.0->spacy<3.3.0,>=3.2.0->en-core-web-lg==3.2.0) (2.4.7)\n",
            "Requirement already satisfied: smart-open<6.0.0,>=5.0.0 in /usr/local/lib/python3.7/dist-packages (from pathy>=0.3.5->spacy<3.3.0,>=3.2.0->en-core-web-lg==3.2.0) (5.2.1)\n",
            "Requirement already satisfied: idna<3,>=2.5 in /usr/local/lib/python3.7/dist-packages (from requests<3.0.0,>=2.13.0->spacy<3.3.0,>=3.2.0->en-core-web-lg==3.2.0) (2.10)\n",
            "Requirement already satisfied: urllib3!=1.25.0,!=1.25.1,<1.26,>=1.21.1 in /usr/local/lib/python3.7/dist-packages (from requests<3.0.0,>=2.13.0->spacy<3.3.0,>=3.2.0->en-core-web-lg==3.2.0) (1.24.3)\n",
            "Requirement already satisfied: certifi>=2017.4.17 in /usr/local/lib/python3.7/dist-packages (from requests<3.0.0,>=2.13.0->spacy<3.3.0,>=3.2.0->en-core-web-lg==3.2.0) (2021.10.8)\n",
            "Requirement already satisfied: chardet<4,>=3.0.2 in /usr/local/lib/python3.7/dist-packages (from requests<3.0.0,>=2.13.0->spacy<3.3.0,>=3.2.0->en-core-web-lg==3.2.0) (3.0.4)\n",
            "Requirement already satisfied: click<9.0.0,>=7.1.1 in /usr/local/lib/python3.7/dist-packages (from typer<0.5.0,>=0.3.0->spacy<3.3.0,>=3.2.0->en-core-web-lg==3.2.0) (7.1.2)\n",
            "Requirement already satisfied: MarkupSafe>=0.23 in /usr/local/lib/python3.7/dist-packages (from jinja2->spacy<3.3.0,>=3.2.0->en-core-web-lg==3.2.0) (2.0.1)\n",
            "Installing collected packages: en-core-web-lg\n",
            "Successfully installed en-core-web-lg-3.2.0\n",
            "\u001b[33mWARNING: Running pip as the 'root' user can result in broken permissions and conflicting behaviour with the system package manager. It is recommended to use a virtual environment instead: https://pip.pypa.io/warnings/venv\u001b[0m\n",
            "\u001b[38;5;2m✔ Download and installation successful\u001b[0m\n",
            "You can now load the package via spacy.load('en_core_web_lg')\n"
          ]
        }
      ]
    },
    {
      "cell_type": "code",
      "metadata": {
        "colab": {
          "base_uri": "https://localhost:8080/"
        },
        "id": "l7G7PGKpAwqw",
        "outputId": "2e900b01-acdb-47e3-bca2-e55117bb041b"
      },
      "source": [
        "# 7 sec\n",
        "# !pip install -U spacy transformers\n",
        "!pip install -U spacy_transformers"
      ],
      "execution_count": 3,
      "outputs": [
        {
          "output_type": "stream",
          "name": "stdout",
          "text": [
            "Collecting spacy_transformers\n",
            "  Downloading spacy_transformers-1.1.2-py2.py3-none-any.whl (51 kB)\n",
            "\u001b[?25l\r\r     |██████▍                         | 10 kB 20.9 MB/s eta 0:00:01\r     |████████████▊                   | 20 kB 23.7 MB/s eta 0:00:01\r     |███████████████████▏            | 30 kB 20.9 MB/s eta 0:00:01\r     |█████████████████████████▌      | 40 kB 17.9 MB/s eta 0:00:01\r     |████████████████████████████████| 51 kB 14.4 MB/s eta 0:00:01\r     |████████████████████████████████| 51 kB 134 kB/s             \n",
            "\u001b[?25hCollecting spacy-alignments<1.0.0,>=0.7.2\n",
            "  Downloading spacy_alignments-0.8.4-cp37-cp37m-manylinux_2_17_x86_64.manylinux2014_x86_64.whl (1.1 MB)\n",
            "     |████████████████████████████████| 1.1 MB 18.8 MB/s            \n",
            "\u001b[?25hRequirement already satisfied: srsly<3.0.0,>=2.4.0 in /usr/local/lib/python3.7/dist-packages (from spacy_transformers) (2.4.2)\n",
            "Collecting transformers<4.12.0,>=3.4.0\n",
            "  Downloading transformers-4.11.3-py3-none-any.whl (2.9 MB)\n",
            "     |████████████████████████████████| 2.9 MB 30.8 MB/s            \n",
            "\u001b[?25hRequirement already satisfied: spacy<4.0.0,>=3.1.3 in /usr/local/lib/python3.7/dist-packages (from spacy_transformers) (3.2.0)\n",
            "Requirement already satisfied: torch>=1.6.0 in /usr/local/lib/python3.7/dist-packages (from spacy_transformers) (1.9.0+cu111)\n",
            "Requirement already satisfied: catalogue<2.1.0,>=2.0.6 in /usr/local/lib/python3.7/dist-packages (from spacy<4.0.0,>=3.1.3->spacy_transformers) (2.0.6)\n",
            "Requirement already satisfied: jinja2 in /usr/local/lib/python3.7/dist-packages (from spacy<4.0.0,>=3.1.3->spacy_transformers) (2.11.3)\n",
            "Requirement already satisfied: cymem<2.1.0,>=2.0.2 in /usr/local/lib/python3.7/dist-packages (from spacy<4.0.0,>=3.1.3->spacy_transformers) (2.0.6)\n",
            "Requirement already satisfied: pydantic!=1.8,!=1.8.1,<1.9.0,>=1.7.4 in /usr/local/lib/python3.7/dist-packages (from spacy<4.0.0,>=3.1.3->spacy_transformers) (1.8.2)\n",
            "Requirement already satisfied: requests<3.0.0,>=2.13.0 in /usr/local/lib/python3.7/dist-packages (from spacy<4.0.0,>=3.1.3->spacy_transformers) (2.23.0)\n",
            "Requirement already satisfied: setuptools in /usr/local/lib/python3.7/dist-packages (from spacy<4.0.0,>=3.1.3->spacy_transformers) (58.5.3)\n",
            "Requirement already satisfied: pathy>=0.3.5 in /usr/local/lib/python3.7/dist-packages (from spacy<4.0.0,>=3.1.3->spacy_transformers) (0.6.1)\n",
            "Requirement already satisfied: thinc<8.1.0,>=8.0.12 in /usr/local/lib/python3.7/dist-packages (from spacy<4.0.0,>=3.1.3->spacy_transformers) (8.0.13)\n",
            "Requirement already satisfied: langcodes<4.0.0,>=3.2.0 in /usr/local/lib/python3.7/dist-packages (from spacy<4.0.0,>=3.1.3->spacy_transformers) (3.2.1)\n",
            "Requirement already satisfied: murmurhash<1.1.0,>=0.28.0 in /usr/local/lib/python3.7/dist-packages (from spacy<4.0.0,>=3.1.3->spacy_transformers) (1.0.6)\n",
            "Requirement already satisfied: tqdm<5.0.0,>=4.38.0 in /usr/local/lib/python3.7/dist-packages (from spacy<4.0.0,>=3.1.3->spacy_transformers) (4.62.3)\n",
            "Requirement already satisfied: packaging>=20.0 in /usr/local/lib/python3.7/dist-packages (from spacy<4.0.0,>=3.1.3->spacy_transformers) (21.2)\n",
            "Requirement already satisfied: typer<0.5.0,>=0.3.0 in /usr/local/lib/python3.7/dist-packages (from spacy<4.0.0,>=3.1.3->spacy_transformers) (0.4.0)\n",
            "Requirement already satisfied: spacy-loggers<2.0.0,>=1.0.0 in /usr/local/lib/python3.7/dist-packages (from spacy<4.0.0,>=3.1.3->spacy_transformers) (1.0.1)\n",
            "Requirement already satisfied: wasabi<1.1.0,>=0.8.1 in /usr/local/lib/python3.7/dist-packages (from spacy<4.0.0,>=3.1.3->spacy_transformers) (0.8.2)\n",
            "Requirement already satisfied: numpy>=1.15.0 in /usr/local/lib/python3.7/dist-packages (from spacy<4.0.0,>=3.1.3->spacy_transformers) (1.19.5)\n",
            "Requirement already satisfied: preshed<3.1.0,>=3.0.2 in /usr/local/lib/python3.7/dist-packages (from spacy<4.0.0,>=3.1.3->spacy_transformers) (3.0.6)\n",
            "Requirement already satisfied: spacy-legacy<3.1.0,>=3.0.8 in /usr/local/lib/python3.7/dist-packages (from spacy<4.0.0,>=3.1.3->spacy_transformers) (3.0.8)\n",
            "Requirement already satisfied: typing-extensions<4.0.0.0,>=3.7.4 in /usr/local/lib/python3.7/dist-packages (from spacy<4.0.0,>=3.1.3->spacy_transformers) (3.10.0.2)\n",
            "Requirement already satisfied: blis<0.8.0,>=0.4.0 in /usr/local/lib/python3.7/dist-packages (from spacy<4.0.0,>=3.1.3->spacy_transformers) (0.4.1)\n",
            "Collecting sacremoses\n",
            "  Downloading sacremoses-0.0.46-py3-none-any.whl (895 kB)\n",
            "     |████████████████████████████████| 895 kB 42.1 MB/s            \n",
            "\u001b[?25hRequirement already satisfied: filelock in /usr/local/lib/python3.7/dist-packages (from transformers<4.12.0,>=3.4.0->spacy_transformers) (3.3.2)\n",
            "Requirement already satisfied: importlib-metadata in /usr/local/lib/python3.7/dist-packages (from transformers<4.12.0,>=3.4.0->spacy_transformers) (4.8.1)\n",
            "Collecting huggingface-hub>=0.0.17\n",
            "  Downloading huggingface_hub-0.1.2-py3-none-any.whl (59 kB)\n",
            "     |████████████████████████████████| 59 kB 6.8 MB/s             \n",
            "\u001b[?25hCollecting tokenizers<0.11,>=0.10.1\n",
            "  Downloading tokenizers-0.10.3-cp37-cp37m-manylinux_2_5_x86_64.manylinux1_x86_64.manylinux_2_12_x86_64.manylinux2010_x86_64.whl (3.3 MB)\n",
            "     |████████████████████████████████| 3.3 MB 35.2 MB/s            \n",
            "\u001b[?25hCollecting pyyaml>=5.1\n",
            "  Downloading PyYAML-6.0-cp37-cp37m-manylinux_2_5_x86_64.manylinux1_x86_64.manylinux_2_12_x86_64.manylinux2010_x86_64.whl (596 kB)\n",
            "     |████████████████████████████████| 596 kB 57.7 MB/s            \n",
            "\u001b[?25hRequirement already satisfied: regex!=2019.12.17 in /usr/local/lib/python3.7/dist-packages (from transformers<4.12.0,>=3.4.0->spacy_transformers) (2019.12.20)\n",
            "Requirement already satisfied: zipp>=0.5 in /usr/local/lib/python3.7/dist-packages (from catalogue<2.1.0,>=2.0.6->spacy<4.0.0,>=3.1.3->spacy_transformers) (3.6.0)\n",
            "Requirement already satisfied: pyparsing<3,>=2.0.2 in /usr/local/lib/python3.7/dist-packages (from packaging>=20.0->spacy<4.0.0,>=3.1.3->spacy_transformers) (2.4.7)\n",
            "Requirement already satisfied: smart-open<6.0.0,>=5.0.0 in /usr/local/lib/python3.7/dist-packages (from pathy>=0.3.5->spacy<4.0.0,>=3.1.3->spacy_transformers) (5.2.1)\n",
            "Requirement already satisfied: idna<3,>=2.5 in /usr/local/lib/python3.7/dist-packages (from requests<3.0.0,>=2.13.0->spacy<4.0.0,>=3.1.3->spacy_transformers) (2.10)\n",
            "Requirement already satisfied: urllib3!=1.25.0,!=1.25.1,<1.26,>=1.21.1 in /usr/local/lib/python3.7/dist-packages (from requests<3.0.0,>=2.13.0->spacy<4.0.0,>=3.1.3->spacy_transformers) (1.24.3)\n",
            "Requirement already satisfied: certifi>=2017.4.17 in /usr/local/lib/python3.7/dist-packages (from requests<3.0.0,>=2.13.0->spacy<4.0.0,>=3.1.3->spacy_transformers) (2021.10.8)\n",
            "Requirement already satisfied: chardet<4,>=3.0.2 in /usr/local/lib/python3.7/dist-packages (from requests<3.0.0,>=2.13.0->spacy<4.0.0,>=3.1.3->spacy_transformers) (3.0.4)\n",
            "Requirement already satisfied: click<9.0.0,>=7.1.1 in /usr/local/lib/python3.7/dist-packages (from typer<0.5.0,>=0.3.0->spacy<4.0.0,>=3.1.3->spacy_transformers) (7.1.2)\n",
            "Requirement already satisfied: MarkupSafe>=0.23 in /usr/local/lib/python3.7/dist-packages (from jinja2->spacy<4.0.0,>=3.1.3->spacy_transformers) (2.0.1)\n",
            "Requirement already satisfied: six in /usr/local/lib/python3.7/dist-packages (from sacremoses->transformers<4.12.0,>=3.4.0->spacy_transformers) (1.15.0)\n",
            "Requirement already satisfied: joblib in /usr/local/lib/python3.7/dist-packages (from sacremoses->transformers<4.12.0,>=3.4.0->spacy_transformers) (1.1.0)\n",
            "Installing collected packages: pyyaml, tokenizers, sacremoses, huggingface-hub, transformers, spacy-alignments, spacy-transformers\n",
            "  Attempting uninstall: pyyaml\n",
            "    Found existing installation: PyYAML 3.13\n",
            "    Uninstalling PyYAML-3.13:\n",
            "      Successfully uninstalled PyYAML-3.13\n",
            "Successfully installed huggingface-hub-0.1.2 pyyaml-6.0 sacremoses-0.0.46 spacy-alignments-0.8.4 spacy-transformers-1.1.2 tokenizers-0.10.3 transformers-4.11.3\n",
            "\u001b[33mWARNING: Running pip as the 'root' user can result in broken permissions and conflicting behaviour with the system package manager. It is recommended to use a virtual environment instead: https://pip.pypa.io/warnings/venv\u001b[0m\n"
          ]
        }
      ]
    },
    {
      "cell_type": "code",
      "metadata": {
        "colab": {
          "base_uri": "https://localhost:8080/"
        },
        "id": "ZpMl11-ICPIm",
        "outputId": "bb8c0e39-b836-4ecb-95e4-1487d1f3851d"
      },
      "source": [
        "cd /content/drive/MyDrive/DAEN690/rel_component"
      ],
      "execution_count": 5,
      "outputs": [
        {
          "output_type": "stream",
          "name": "stdout",
          "text": [
            "/content/drive/MyDrive/DAEN690/rel_component\n"
          ]
        }
      ]
    },
    {
      "cell_type": "code",
      "metadata": {
        "id": "NlHcU4yLyi-J"
      },
      "source": [
        "import spacy\n",
        "import spacy_transformers"
      ],
      "execution_count": 6,
      "outputs": []
    },
    {
      "cell_type": "code",
      "metadata": {
        "colab": {
          "base_uri": "https://localhost:8080/"
        },
        "id": "PKbbt9zJCGBv",
        "outputId": "88ffc8ca-38ac-4216-92d0-6fb1aeecc236"
      },
      "source": [
        "# Need to modify project.yml and rel_trf.cfg\n",
        "!spacy project run train_gpu # command to train train transformers\n",
        "!spacy project run evaluate # command to evaluate on test dataset"
      ],
      "execution_count": null,
      "outputs": [
        {
          "output_type": "stream",
          "name": "stdout",
          "text": [
            "\u001b[1m\n",
            "================================= train_gpu =================================\u001b[0m\n",
            "Running command: /usr/bin/python3 -m spacy train configs/rel_trf.cfg --output /content/drive/MyDrive/training --paths.train data/relations_training.spacy --paths.dev data/relations_dev.spacy -c ./scripts/custom_functions.py --gpu-id 0\n",
            "\u001b[38;5;4mℹ Saving to output directory: /content/drive/MyDrive/training\u001b[0m\n",
            "\u001b[38;5;4mℹ Using GPU: 0\u001b[0m\n",
            "\u001b[1m\n",
            "=========================== Initializing pipeline ===========================\u001b[0m\n",
            "[2021-11-08 07:46:20,833] [INFO] Set up nlp object from config\n",
            "[2021-11-08 07:46:20,845] [INFO] Pipeline: ['transformer', 'relation_extractor']\n",
            "[2021-11-08 07:46:20,855] [INFO] Created vocabulary\n",
            "[2021-11-08 07:46:20,859] [INFO] Finished initializing nlp object\n",
            "Downloading: 100% 481/481 [00:00<00:00, 459kB/s]\n",
            "Downloading: 100% 878k/878k [00:00<00:00, 2.19MB/s]\n",
            "Downloading: 100% 446k/446k [00:00<00:00, 1.12MB/s]\n",
            "Downloading: 100% 1.29M/1.29M [00:00<00:00, 2.71MB/s]\n",
            "Downloading: 100% 478M/478M [00:13<00:00, 38.1MB/s]\n",
            "Some weights of the model checkpoint at roberta-base were not used when initializing RobertaModel: ['lm_head.decoder.weight', 'lm_head.layer_norm.bias', 'lm_head.layer_norm.weight', 'lm_head.bias', 'lm_head.dense.weight', 'lm_head.dense.bias']\n",
            "- This IS expected if you are initializing RobertaModel from the checkpoint of a model trained on another task or with another architecture (e.g. initializing a BertForSequenceClassification model from a BertForPreTraining model).\n",
            "- This IS NOT expected if you are initializing RobertaModel from the checkpoint of a model that you expect to be exactly identical (initializing a BertForSequenceClassification model from a BertForSequenceClassification model).\n",
            "[2021-11-08 07:46:50,417] [INFO] Initialized pipeline components: ['transformer', 'relation_extractor']\n",
            "\u001b[38;5;2m✔ Initialized pipeline\u001b[0m\n",
            "\u001b[1m\n",
            "============================= Training pipeline =============================\u001b[0m\n",
            "\u001b[38;5;4mℹ Pipeline: ['transformer', 'relation_extractor']\u001b[0m\n",
            "\u001b[38;5;4mℹ Initial learn rate: 0.0\u001b[0m\n",
            "E    #       LOSS TRANS...  LOSS RELAT...  REL_MICRO_P  REL_MICRO_R  REL_MICRO_F  SCORE \n",
            "---  ------  -------------  -------------  -----------  -----------  -----------  ------\n",
            "  0       0           1.77           2.69         0.71        76.92         1.41    0.01\n",
            "100     200          47.90          64.68         0.00         0.00         0.00    0.00\n",
            "200     400           0.02           3.86         0.00         0.00         0.00    0.00\n",
            "300     600           0.01           3.35         0.00         0.00         0.00    0.00\n",
            "400     800           0.00           3.18         0.00         0.00         0.00    0.00\n",
            "500    1000           0.00           3.09         0.00         0.00         0.00    0.00\n",
            "600    1200           0.00           3.08         0.00         0.00         0.00    0.00\n",
            "700    1400           0.00           3.07         0.00         0.00         0.00    0.00\n",
            "800    1600           0.00           3.07         0.00         0.00         0.00    0.00\n",
            "900    1800           0.00           3.00         0.00         0.00         0.00    0.00\n",
            "1000    2000           0.00           2.98         0.00         0.00         0.00    0.00\n",
            "1100    2200           0.00           2.98         0.00         0.00         0.00    0.00\n",
            "1200    2400           0.00           2.98         0.00         0.00         0.00    0.00\n",
            "1300    2600           0.00           2.97         0.00         0.00         0.00    0.00\n",
            "1400    2800           0.00           2.97         0.00         0.00         0.00    0.00\n",
            "1500    3000           0.00           2.97         0.00         0.00         0.00    0.00\n",
            "1600    3200           0.00           2.97         0.00         0.00         0.00    0.00\n",
            "1700    3400           0.00           2.97         0.00         0.00         0.00    0.00\n",
            "1800    3600           0.00           2.97         0.00         0.00         0.00    0.00\n",
            "1900    3800           0.00           2.97         0.00         0.00         0.00    0.00\n",
            "2000    4000           0.00           2.97         0.00         0.00         0.00    0.00\n",
            "2100    4200           0.00           2.97         0.00         0.00         0.00    0.00\n",
            "2200    4400           0.00           2.97         0.00         0.00         0.00    0.00\n",
            "2300    4600           0.00           2.97         0.00         0.00         0.00    0.00\n",
            "2400    4800           0.00           2.97         0.00         0.00         0.00    0.00\n",
            "2500    5000           0.00           2.97         0.00         0.00         0.00    0.00\n",
            "2600    5200           0.00           2.97         0.00         0.00         0.00    0.00\n",
            "2700    5400           0.00           2.97         0.00         0.00         0.00    0.00\n",
            "2800    5600           0.00           2.97         0.00         0.00         0.00    0.00\n",
            "2900    5800           0.00           2.97         0.00         0.00         0.00    0.00\n",
            "3000    6000           0.00           2.97         0.00         0.00         0.00    0.00\n",
            "3100    6200           0.13           3.86         0.00         0.00         0.00    0.00\n",
            "3200    6400           0.00           3.52         0.00         0.00         0.00    0.00\n",
            "3300    6600           0.00           3.52         0.00         0.00         0.00    0.00\n",
            "3400    6800           0.00           3.52         0.00         0.00         0.00    0.00\n",
            "3500    7000           0.00           3.52         0.00         0.00         0.00    0.00\n",
            "3600    7200           0.00           3.52         0.00         0.00         0.00    0.00\n",
            "3700    7400           0.00           3.52         0.00         0.00         0.00    0.00\n",
            "3800    7600           0.00           3.30         0.00         0.00         0.00    0.00\n",
            "3900    7800           0.00           3.15         0.00         0.00         0.00    0.00\n",
            "4000    8000           0.00           3.14         0.00         0.00         0.00    0.00\n",
            "4100    8200           0.00           3.14         0.00         0.00         0.00    0.00\n",
            "4200    8400           0.00           3.14         0.00         0.00         0.00    0.00\n",
            "4300    8600           0.00           3.14         0.00         0.00         0.00    0.00\n",
            "4400    8800           0.00           3.14         0.00         0.00         0.00    0.00\n",
            "4500    9000           0.00           3.14         0.00         0.00         0.00    0.00\n",
            "4600    9200           0.00           3.14         0.00         0.00         0.00    0.00\n",
            "4700    9400           0.00           3.14         0.00         0.00         0.00    0.00\n",
            "4800    9600           0.00           3.14         0.00         0.00         0.00    0.00\n",
            "4900    9800           0.00           3.14         0.00         0.00         0.00    0.00\n",
            "5000   10000           0.00           3.14         0.00         0.00         0.00    0.00\n",
            "5100   10200           0.00           3.14         0.00         0.00         0.00    0.00\n",
            "5200   10400           0.00           3.14         0.00         0.00         0.00    0.00\n",
            "5300   10600           0.00           3.14         0.00         0.00         0.00    0.00\n",
            "5400   10800           0.00           3.14         0.00         0.00         0.00    0.00\n",
            "5500   11000           0.00           3.14         0.00         0.00         0.00    0.00\n",
            "5600   11200           0.00           3.14         0.00         0.00         0.00    0.00\n",
            "5700   11400           0.00           3.14         0.00         0.00         0.00    0.00\n",
            "5800   11600           0.00           3.14         0.00         0.00         0.00    0.00\n",
            "5900   11800           0.00           3.14         0.00         0.00         0.00    0.00\n",
            "6000   12000           0.00           3.14         0.00         0.00         0.00    0.00\n",
            "6100   12200           0.00           3.14         0.00         0.00         0.00    0.00\n",
            "6200   12400           0.00           3.14         0.00         0.00         0.00    0.00\n",
            "6300   12600           0.00           3.14         0.00         0.00         0.00    0.00\n",
            "6400   12800           0.00           3.14         0.00         0.00         0.00    0.00\n",
            "6500   13000           0.00           3.14         0.00         0.00         0.00    0.00\n",
            "6600   13200           0.00           3.14         0.00         0.00         0.00    0.00\n",
            "6700   13400           0.00           3.14         0.00         0.00         0.00    0.00\n",
            "6800   13600           0.00           3.14         0.00         0.00         0.00    0.00\n",
            "6900   13800           0.00           3.14         0.00         0.00         0.00    0.00\n"
          ]
        }
      ]
    },
    {
      "cell_type": "code",
      "metadata": {
        "colab": {
          "base_uri": "https://localhost:8080/"
        },
        "id": "1eGVtCmqKmvH",
        "outputId": "dafd5d78-f2ca-455e-d84a-f485e56d05d6"
      },
      "source": [
        "!spacy project run train_cpu # command to train train tok2vec\n",
        "!spacy project run evaluate"
      ],
      "execution_count": null,
      "outputs": [
        {
          "output_type": "stream",
          "name": "stdout",
          "text": [
            "\u001b[1m\n",
            "================================= train_cpu =================================\u001b[0m\n",
            "Running command: /usr/bin/python3 -m spacy train configs/rel_tok2vec.cfg --output /content/drive/MyDrive/training --paths.train data/relations_training.spacy --paths.dev data/relations_dev.spacy -c ./scripts/custom_functions.py\n",
            "\u001b[38;5;4mℹ Saving to output directory: /content/drive/MyDrive/training\u001b[0m\n",
            "\u001b[38;5;4mℹ Using CPU\u001b[0m\n",
            "\u001b[38;5;4mℹ To switch to GPU 0, use the option: --gpu-id 0\u001b[0m\n",
            "\u001b[1m\n",
            "=========================== Initializing pipeline ===========================\u001b[0m\n",
            "[2021-11-08 07:39:26,056] [INFO] Set up nlp object from config\n",
            "[2021-11-08 07:39:26,065] [INFO] Pipeline: ['tok2vec', 'relation_extractor']\n",
            "[2021-11-08 07:39:26,069] [INFO] Created vocabulary\n",
            "[2021-11-08 07:39:26,071] [INFO] Finished initializing nlp object\n",
            "[2021-11-08 07:39:26,359] [INFO] Initialized pipeline components: ['tok2vec', 'relation_extractor']\n",
            "\u001b[38;5;2m✔ Initialized pipeline\u001b[0m\n",
            "\u001b[1m\n",
            "============================= Training pipeline =============================\u001b[0m\n",
            "\u001b[38;5;4mℹ Pipeline: ['tok2vec', 'relation_extractor']\u001b[0m\n",
            "\u001b[38;5;4mℹ Initial learn rate: 0.001\u001b[0m\n",
            "E    #       LOSS TOK2VEC  LOSS RELAT...  REL_MICRO_P  REL_MICRO_R  REL_MICRO_F  SCORE \n",
            "---  ------  ------------  -------------  -----------  -----------  -----------  ------\n",
            "  0       0          0.37           2.48         0.76        46.15         1.49    0.01\n",
            "\n",
            "Aborted!\n",
            "\u001b[1m\n",
            "================================== evaluate ==================================\u001b[0m\n",
            "Running command: /usr/bin/python3 ./scripts/evaluate.py /content/drive/MyDrive/training/model-best data/relations_test.spacy False\n",
            "\n",
            "Random baseline:\n",
            "threshold 0.00 \t {'rel_micro_p': '0.99', 'rel_micro_r': '100.00', 'rel_micro_f': '1.96'}\n",
            "threshold 0.05 \t {'rel_micro_p': '1.04', 'rel_micro_r': '100.00', 'rel_micro_f': '2.07'}\n",
            "threshold 0.10 \t {'rel_micro_p': '1.09', 'rel_micro_r': '100.00', 'rel_micro_f': '2.15'}\n",
            "threshold 0.20 \t {'rel_micro_p': '1.08', 'rel_micro_r': '87.50', 'rel_micro_f': '2.13'}\n",
            "threshold 0.30 \t {'rel_micro_p': '0.90', 'rel_micro_r': '62.50', 'rel_micro_f': '1.77'}\n",
            "threshold 0.40 \t {'rel_micro_p': '0.82', 'rel_micro_r': '50.00', 'rel_micro_f': '1.61'}\n",
            "threshold 0.50 \t {'rel_micro_p': '0.75', 'rel_micro_r': '37.50', 'rel_micro_f': '1.47'}\n",
            "threshold 0.60 \t {'rel_micro_p': '0.93', 'rel_micro_r': '37.50', 'rel_micro_f': '1.81'}\n",
            "threshold 0.70 \t {'rel_micro_p': '0.84', 'rel_micro_r': '25.00', 'rel_micro_f': '1.62'}\n",
            "threshold 0.80 \t {'rel_micro_p': '1.19', 'rel_micro_r': '25.00', 'rel_micro_f': '2.27'}\n",
            "threshold 0.90 \t {'rel_micro_p': '0.00', 'rel_micro_r': '0.00', 'rel_micro_f': '0.00'}\n",
            "threshold 0.99 \t {'rel_micro_p': '0.00', 'rel_micro_r': '0.00', 'rel_micro_f': '0.00'}\n",
            "threshold 1.00 \t {'rel_micro_p': '0.00', 'rel_micro_r': '0.00', 'rel_micro_f': '0.00'}\n",
            "\n",
            "Results of the trained model:\n",
            "threshold 0.00 \t {'rel_micro_p': '0.99', 'rel_micro_r': '100.00', 'rel_micro_f': '1.96'}\n",
            "threshold 0.05 \t {'rel_micro_p': '1.23', 'rel_micro_r': '100.00', 'rel_micro_f': '2.42'}\n",
            "threshold 0.10 \t {'rel_micro_p': '1.22', 'rel_micro_r': '87.50', 'rel_micro_f': '2.40'}\n",
            "threshold 0.20 \t {'rel_micro_p': '1.48', 'rel_micro_r': '87.50', 'rel_micro_f': '2.91'}\n",
            "threshold 0.30 \t {'rel_micro_p': '1.75', 'rel_micro_r': '87.50', 'rel_micro_f': '3.44'}\n",
            "threshold 0.40 \t {'rel_micro_p': '2.17', 'rel_micro_r': '87.50', 'rel_micro_f': '4.23'}\n",
            "threshold 0.50 \t {'rel_micro_p': '2.21', 'rel_micro_r': '75.00', 'rel_micro_f': '4.29'}\n",
            "threshold 0.60 \t {'rel_micro_p': '2.31', 'rel_micro_r': '62.50', 'rel_micro_f': '4.46'}\n",
            "threshold 0.70 \t {'rel_micro_p': '2.47', 'rel_micro_r': '50.00', 'rel_micro_f': '4.71'}\n",
            "threshold 0.80 \t {'rel_micro_p': '2.61', 'rel_micro_r': '37.50', 'rel_micro_f': '4.88'}\n",
            "threshold 0.90 \t {'rel_micro_p': '1.59', 'rel_micro_r': '12.50', 'rel_micro_f': '2.82'}\n",
            "threshold 0.99 \t {'rel_micro_p': '0.00', 'rel_micro_r': '0.00', 'rel_micro_f': '0.00'}\n",
            "threshold 1.00 \t {'rel_micro_p': '0.00', 'rel_micro_r': '0.00', 'rel_micro_f': '0.00'}\n"
          ]
        }
      ]
    },
    {
      "cell_type": "code",
      "metadata": {
        "id": "PGFiMQ2d_7ND",
        "colab": {
          "base_uri": "https://localhost:8080/"
        },
        "outputId": "c33ede89-d3f1-45ac-a0fa-46031cece083"
      },
      "source": [
        "!zip -r /content/traning.zip /content/rel_component/training"
      ],
      "execution_count": null,
      "outputs": [
        {
          "output_type": "stream",
          "name": "stdout",
          "text": [
            "  adding: content/rel_component/training/ (stored 0%)\n",
            "  adding: content/rel_component/training/model-best/ (stored 0%)\n",
            "  adding: content/rel_component/training/model-best/vocab/ (stored 0%)\n",
            "  adding: content/rel_component/training/model-best/vocab/lookups.bin (stored 0%)\n",
            "  adding: content/rel_component/training/model-best/vocab/key2row (stored 0%)\n",
            "  adding: content/rel_component/training/model-best/vocab/strings.json (deflated 73%)\n",
            "  adding: content/rel_component/training/model-best/vocab/vectors (deflated 45%)\n",
            "  adding: content/rel_component/training/model-best/relation_extractor/ (stored 0%)\n",
            "  adding: content/rel_component/training/model-best/relation_extractor/model (deflated 8%)\n",
            "  adding: content/rel_component/training/model-best/relation_extractor/cfg (deflated 33%)\n",
            "  adding: content/rel_component/training/model-best/tokenizer (deflated 80%)\n",
            "  adding: content/rel_component/training/model-best/transformer/ (stored 0%)\n",
            "  adding: content/rel_component/training/model-best/transformer/model (deflated 16%)\n",
            "  adding: content/rel_component/training/model-best/transformer/cfg (stored 0%)\n",
            "  adding: content/rel_component/training/model-best/meta.json (deflated 55%)\n",
            "  adding: content/rel_component/training/model-best/config.cfg (deflated 64%)\n",
            "  adding: content/rel_component/training/model-last/ (stored 0%)\n",
            "  adding: content/rel_component/training/model-last/vocab/ (stored 0%)\n",
            "  adding: content/rel_component/training/model-last/vocab/lookups.bin (stored 0%)\n",
            "  adding: content/rel_component/training/model-last/vocab/key2row (stored 0%)\n",
            "  adding: content/rel_component/training/model-last/vocab/strings.json (deflated 73%)\n",
            "  adding: content/rel_component/training/model-last/vocab/vectors (deflated 45%)\n",
            "  adding: content/rel_component/training/model-last/relation_extractor/ (stored 0%)\n",
            "  adding: content/rel_component/training/model-last/relation_extractor/model (deflated 8%)\n",
            "  adding: content/rel_component/training/model-last/relation_extractor/cfg (deflated 33%)\n",
            "  adding: content/rel_component/training/model-last/tokenizer (deflated 80%)\n",
            "  adding: content/rel_component/training/model-last/transformer/ (stored 0%)\n",
            "  adding: content/rel_component/training/model-last/transformer/model (deflated 15%)\n",
            "  adding: content/rel_component/training/model-last/transformer/cfg (stored 0%)\n",
            "  adding: content/rel_component/training/model-last/meta.json (deflated 55%)\n",
            "  adding: content/rel_component/training/model-last/config.cfg (deflated 64%)\n"
          ]
        }
      ]
    },
    {
      "cell_type": "code",
      "metadata": {
        "colab": {
          "base_uri": "https://localhost:8080/"
        },
        "id": "knEgSLJuQdeq",
        "outputId": "049206fd-1fbe-4432-9186-2a6d4f611bf5"
      },
      "source": [
        "# loading NER model\n",
        "cd /content/drive/MyDrive/output"
      ],
      "execution_count": 8,
      "outputs": [
        {
          "output_type": "stream",
          "name": "stdout",
          "text": [
            "/content/drive/MyDrive/output\n"
          ]
        }
      ]
    },
    {
      "cell_type": "code",
      "metadata": {
        "id": "xLSh_50eXCNS"
      },
      "source": [
        "nlp = spacy.load(r\"/content/drive/MyDrive/output/model-best\")"
      ],
      "execution_count": 9,
      "outputs": []
    },
    {
      "cell_type": "code",
      "metadata": {
        "colab": {
          "base_uri": "https://localhost:8080/"
        },
        "id": "HKy4qU6r-ee0",
        "outputId": "5ec71200-f360-44d6-c150-a4a58f40af07"
      },
      "source": [
        "text=['The Resident Rights will now be recorded as a group and all signed off or together prior to now they were done seperately and from time to time a patient may not have been at the facility while being reviewed.\"Based on observations, the facility failed to ensure the storage area was locked. Evidence: On 02/14/2017 when arriving to the facility and escorted to the facility kitchen, with the Licensing Inspector and facility staff it was observed that dietary supplements and eye drops were sitting in the facility window sill and on the kitchen counter accessible to all residents.']\n",
        "for doc in nlp.pipe(text, disable=[\"tagger\"]):\n",
        "   print(f\"spans: {[(e.start, e.text, e.label_) for e in doc.ents]}\")"
      ],
      "execution_count": 10,
      "outputs": [
        {
          "output_type": "stream",
          "name": "stdout",
          "text": [
            "spans: [(1, 'Resident', 'PERSON'), (29, 'patient', 'PERSON'), (51, 'storage area', 'LOCATION'), (54, 'locked', 'CONDITION'), (70, 'kitchen', 'LOCATION'), (93, 'window', 'LOCATION'), (94, 'sill', 'LOCATION'), (98, 'kitchen', 'LOCATION'), (99, 'counter', 'LOCATION'), (103, 'residents', 'PERSON')]\n"
          ]
        }
      ]
    },
    {
      "cell_type": "code",
      "metadata": {
        "id": "JYIPjVUwNR5x"
      },
      "source": [
        "import random\n",
        "import typer\n",
        "from pathlib import Path\n",
        "import spacy\n",
        "from spacy.tokens import DocBin, Doc\n",
        "from spacy.training.example import Example\n",
        "from rel_pipe import make_relation_extractor, score_relations\n",
        "from rel_model import create_relation_model, create_classification_layer, create_instances, create_tensors"
      ],
      "execution_count": 12,
      "outputs": []
    },
    {
      "cell_type": "code",
      "metadata": {
        "id": "7Gat3L_h-qLl",
        "colab": {
          "base_uri": "https://localhost:8080/"
        },
        "outputId": "9e3a45fe-daac-41d1-d846-d3cf44e0cb57"
      },
      "source": [
        "# We load the relation extraction (REL) model\n",
        "nlp2 = spacy.load(\"/content/drive/MyDrive/DAEN690/rel_component/training/model-best\")"
      ],
      "execution_count": 15,
      "outputs": [
        {
          "output_type": "stream",
          "name": "stderr",
          "text": [
            "/usr/local/lib/python3.7/dist-packages/spacy/util.py:833: UserWarning: [W095] Model 'en_pipeline' (0.0.0) was trained with spaCy v3.1 and may not be 100% compatible with the current version (3.2.0). If you see errors or degraded performance, download a newer compatible model or retrain your custom model with the current spaCy version. For more details and available updates, run: python -m spacy validate\n",
            "  warnings.warn(warn_msg)\n"
          ]
        }
      ]
    },
    {
      "cell_type": "code",
      "metadata": {
        "colab": {
          "base_uri": "https://localhost:8080/"
        },
        "id": "xPUs69mMTPuy",
        "outputId": "bf0063b4-dbbc-4f0a-d789-89c9b171a878"
      },
      "source": [
        "nlp.add_pipe('sentencizer')"
      ],
      "execution_count": 20,
      "outputs": [
        {
          "output_type": "execute_result",
          "data": {
            "text/plain": [
              "<spacy.pipeline.sentencizer.Sentencizer at 0x7fafcf8a6e10>"
            ]
          },
          "metadata": {},
          "execution_count": 20
        }
      ]
    },
    {
      "cell_type": "code",
      "metadata": {
        "id": "KbWCEMmp-6tw"
      },
      "source": [
        "# We take the entities generated from the NER pipeline and input them to the REL pipeline\n",
        "for name, proc in nlp2.pipeline:\n",
        "  doc = proc(doc)"
      ],
      "execution_count": 21,
      "outputs": []
    },
    {
      "cell_type": "code",
      "metadata": {
        "colab": {
          "base_uri": "https://localhost:8080/"
        },
        "id": "X4bNThKm-9ki",
        "outputId": "9c93240f-bce0-4514-c407-907715935e1f"
      },
      "source": [
        "# Here, we split the paragraph into sentences and apply the relation extraction for each pair of entities found in each sentence.\n",
        "for value, rel_dict in doc._.rel.items():\n",
        "  for sent in doc.sents:\n",
        "    for e in sent.ents:\n",
        "      for b in sent.ents:\n",
        "        if e.start == value[0] and b.start == value[1]:\n",
        "          if rel_dict['HAVE'] >=0 :\n",
        "            print(f\"entities: {e.text, b.text} --> predicted relation: {rel_dict}\")"
      ],
      "execution_count": 27,
      "outputs": [
        {
          "output_type": "stream",
          "name": "stdout",
          "text": [
            "entities: ('storage area', 'locked') --> predicted relation: {'SUPERIOR': 0.007137117, 'TIME RESTRICTION': 0.0053848745, 'HAVE': 0.093294665, 'STORE': 0.01284966, \"CAN'T IN\": 0.020411372, 'LICENSE BY': 0.0027966935, 'REMIAN': 0.0057908446, 'INCLUD': 0.007039199, 'INCLUDE': 0.009160677}\n",
            "entities: ('locked', 'storage area') --> predicted relation: {'SUPERIOR': 0.015243905, 'TIME RESTRICTION': 0.0017383783, 'HAVE': 0.026043152, 'STORE': 0.044912208, \"CAN'T IN\": 0.04450716, 'LICENSE BY': 0.002040937, 'REMIAN': 0.0066688773, 'INCLUD': 0.01303748, 'INCLUDE': 0.01756879}\n",
            "entities: ('window', 'sill') --> predicted relation: {'SUPERIOR': 0.049600538, 'TIME RESTRICTION': 0.012142147, 'HAVE': 0.032483894, 'STORE': 0.02794061, \"CAN'T IN\": 0.053569596, 'LICENSE BY': 0.01280725, 'REMIAN': 0.0056385337, 'INCLUD': 0.012295376, 'INCLUDE': 0.018288359}\n",
            "entities: ('window', 'kitchen') --> predicted relation: {'SUPERIOR': 0.016455097, 'TIME RESTRICTION': 0.0070682485, 'HAVE': 0.004410597, 'STORE': 0.037727747, \"CAN'T IN\": 0.032109264, 'LICENSE BY': 0.0065639014, 'REMIAN': 0.009398005, 'INCLUD': 0.009096971, 'INCLUDE': 0.011737419}\n",
            "entities: ('window', 'counter') --> predicted relation: {'SUPERIOR': 0.024463803, 'TIME RESTRICTION': 0.025320077, 'HAVE': 0.016670791, 'STORE': 0.0321882, \"CAN'T IN\": 0.06375024, 'LICENSE BY': 0.01392823, 'REMIAN': 0.009472457, 'INCLUD': 0.02486882, 'INCLUDE': 0.018130697}\n",
            "entities: ('window', 'residents') --> predicted relation: {'SUPERIOR': 0.02779374, 'TIME RESTRICTION': 0.005256425, 'HAVE': 0.0047806865, 'STORE': 0.03808304, \"CAN'T IN\": 0.008086348, 'LICENSE BY': 0.0030209525, 'REMIAN': 0.011895944, 'INCLUD': 0.004769391, 'INCLUDE': 0.017731225}\n",
            "entities: ('sill', 'window') --> predicted relation: {'SUPERIOR': 0.10205116, 'TIME RESTRICTION': 0.019336766, 'HAVE': 0.04893879, 'STORE': 0.06365468, \"CAN'T IN\": 0.04497989, 'LICENSE BY': 0.0068232594, 'REMIAN': 0.006555955, 'INCLUD': 0.018354537, 'INCLUDE': 0.015498233}\n",
            "entities: ('sill', 'kitchen') --> predicted relation: {'SUPERIOR': 0.038828447, 'TIME RESTRICTION': 0.008301536, 'HAVE': 0.0049738004, 'STORE': 0.057600603, \"CAN'T IN\": 0.03897943, 'LICENSE BY': 0.0049845185, 'REMIAN': 0.0074790563, 'INCLUD': 0.00991484, 'INCLUDE': 0.0071096346}\n",
            "entities: ('sill', 'counter') --> predicted relation: {'SUPERIOR': 0.057094138, 'TIME RESTRICTION': 0.029642921, 'HAVE': 0.018770028, 'STORE': 0.049292598, \"CAN'T IN\": 0.07685282, 'LICENSE BY': 0.010595769, 'REMIAN': 0.0075384174, 'INCLUD': 0.027065938, 'INCLUDE': 0.011010278}\n",
            "entities: ('sill', 'residents') --> predicted relation: {'SUPERIOR': 0.06457164, 'TIME RESTRICTION': 0.0061755464, 'HAVE': 0.0053908946, 'STORE': 0.058131725, \"CAN'T IN\": 0.009868928, 'LICENSE BY': 0.0022920945, 'REMIAN': 0.00947183, 'INCLUD': 0.005200228, 'INCLUDE': 0.010765971}\n",
            "entities: ('kitchen', 'window') --> predicted relation: {'SUPERIOR': 0.043331146, 'TIME RESTRICTION': 0.011097135, 'HAVE': 0.077652864, 'STORE': 0.0214001, \"CAN'T IN\": 0.0631065, 'LICENSE BY': 0.0058033546, 'REMIAN': 0.007817135, 'INCLUD': 0.012245311, 'INCLUDE': 0.017123949}\n",
            "entities: ('kitchen', 'sill') --> predicted relation: {'SUPERIOR': 0.047820468, 'TIME RESTRICTION': 0.008158741, 'HAVE': 0.058364395, 'STORE': 0.01420931, \"CAN'T IN\": 0.09005762, 'LICENSE BY': 0.008288051, 'REMIAN': 0.0053484337, 'INCLUD': 0.0089228125, 'INCLUDE': 0.01227753}\n",
            "entities: ('kitchen', 'counter') --> predicted relation: {'SUPERIOR': 0.023563474, 'TIME RESTRICTION': 0.017088233, 'HAVE': 0.030347886, 'STORE': 0.016404664, \"CAN'T IN\": 0.10639308, 'LICENSE BY': 0.009017091, 'REMIAN': 0.008986886, 'INCLUD': 0.018110657, 'INCLUDE': 0.012171042}\n",
            "entities: ('kitchen', 'residents') --> predicted relation: {'SUPERIOR': 0.026774228, 'TIME RESTRICTION': 0.003523919, 'HAVE': 0.00879007, 'STORE': 0.019467108, \"CAN'T IN\": 0.014054274, 'LICENSE BY': 0.0019481567, 'REMIAN': 0.011287558, 'INCLUD': 0.0034539504, 'INCLUDE': 0.011901286}\n",
            "entities: ('counter', 'window') --> predicted relation: {'SUPERIOR': 0.106426775, 'TIME RESTRICTION': 0.03217272, 'HAVE': 0.012984275, 'STORE': 0.03142222, \"CAN'T IN\": 0.10433184, 'LICENSE BY': 0.0057156035, 'REMIAN': 0.009682247, 'INCLUD': 0.012535815, 'INCLUDE': 0.026929287}\n",
            "entities: ('counter', 'sill') --> predicted relation: {'SUPERIOR': 0.11665603, 'TIME RESTRICTION': 0.02378799, 'HAVE': 0.009592013, 'STORE': 0.020935884, \"CAN'T IN\": 0.14614284, 'LICENSE BY': 0.008163037, 'REMIAN': 0.006628469, 'INCLUD': 0.009135223, 'INCLUDE': 0.019362425}\n",
            "entities: ('counter', 'kitchen') --> predicted relation: {'SUPERIOR': 0.040615886, 'TIME RESTRICTION': 0.013916141, 'HAVE': 0.0012762869, 'STORE': 0.028340915, \"CAN'T IN\": 0.0911695, 'LICENSE BY': 0.004174102, 'REMIAN': 0.011040647, 'INCLUD': 0.0067532454, 'INCLUDE': 0.012431628}\n",
            "entities: ('counter', 'residents') --> predicted relation: {'SUPERIOR': 0.067460984, 'TIME RESTRICTION': 0.010367306, 'HAVE': 0.001383744, 'STORE': 0.028610434, \"CAN'T IN\": 0.024058305, 'LICENSE BY': 0.0019185863, 'REMIAN': 0.013969044, 'INCLUD': 0.0035366374, 'INCLUDE': 0.018773206}\n",
            "entities: ('residents', 'window') --> predicted relation: {'SUPERIOR': 0.019743778, 'TIME RESTRICTION': 0.0045247227, 'HAVE': 0.15190004, 'STORE': 0.019074818, \"CAN'T IN\": 0.029940477, 'LICENSE BY': 0.018466415, 'REMIAN': 0.008029374, 'INCLUD': 0.0126070175, 'INCLUDE': 0.006140984}\n",
            "entities: ('residents', 'sill') --> predicted relation: {'SUPERIOR': 0.021845141, 'TIME RESTRICTION': 0.0033207831, 'HAVE': 0.116498426, 'STORE': 0.012655263, \"CAN'T IN\": 0.04338314, 'LICENSE BY': 0.026229726, 'REMIAN': 0.0054940195, 'INCLUD': 0.0091872895, 'INCLUDE': 0.0043890807}\n",
            "entities: ('residents', 'kitchen') --> predicted relation: {'SUPERIOR': 0.0071084495, 'TIME RESTRICTION': 0.0019259243, 'HAVE': 0.017101292, 'STORE': 0.017182836, \"CAN'T IN\": 0.02589193, 'LICENSE BY': 0.013532811, 'REMIAN': 0.009158024, 'INCLUD': 0.0067918324, 'INCLUDE': 0.0028026868}\n",
            "entities: ('residents', 'counter') --> predicted relation: {'SUPERIOR': 0.010617241, 'TIME RESTRICTION': 0.0069926144, 'HAVE': 0.062426046, 'STORE': 0.01461407, \"CAN'T IN\": 0.05173371, 'LICENSE BY': 0.028491633, 'REMIAN': 0.009230589, 'INCLUD': 0.018642344, 'INCLUDE': 0.0043507125}\n"
          ]
        }
      ]
    },
    {
      "cell_type": "code",
      "metadata": {
        "colab": {
          "base_uri": "https://localhost:8080/"
        },
        "id": "RB7DVOJSKBNd",
        "outputId": "58c21d4a-495b-499b-b629-2d1ab928527d"
      },
      "source": [
        "# store model as zip\n",
        "!zip -r /content/rel_component.zip /content/rel_component"
      ],
      "execution_count": null,
      "outputs": [
        {
          "output_type": "stream",
          "name": "stdout",
          "text": [
            "  adding: content/rel_component/ (stored 0%)\n",
            "  adding: content/rel_component/test_project_rel.py (deflated 43%)\n",
            "  adding: content/rel_component/README.md (deflated 54%)\n",
            "  adding: content/rel_component/project.yml (deflated 64%)\n",
            "  adding: content/rel_component/.gitignore (stored 0%)\n",
            "  adding: content/rel_component/scripts/ (stored 0%)\n",
            "  adding: content/rel_component/scripts/parse_data.py (deflated 73%)\n",
            "  adding: content/rel_component/scripts/evaluate.py (deflated 66%)\n",
            "  adding: content/rel_component/scripts/custom_functions.py (deflated 52%)\n",
            "  adding: content/rel_component/scripts/__init__.py (stored 0%)\n",
            "  adding: content/rel_component/scripts/rel_model.py (deflated 69%)\n",
            "  adding: content/rel_component/scripts/rel_pipe.py (deflated 71%)\n",
            "  adding: content/rel_component/configs/ (stored 0%)\n",
            "  adding: content/rel_component/configs/rel_trf.cfg (deflated 65%)\n",
            "  adding: content/rel_component/configs/rel_tok2vec.cfg (deflated 63%)\n",
            "  adding: content/rel_component/assets/ (stored 0%)\n",
            "  adding: content/rel_component/assets/annotations.jsonl (deflated 87%)\n"
          ]
        }
      ]
    }
  ]
}